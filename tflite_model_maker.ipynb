{
 "cells": [
  {
   "cell_type": "code",
   "execution_count": 1,
   "id": "abec53b7-c79a-4e8b-831c-6f5e1497c2e2",
   "metadata": {},
   "outputs": [
    {
     "name": "stderr",
     "output_type": "stream",
     "text": [
      "/home/bongo/tensorflow/tfl/lib/python3.8/site-packages/tensorflow_addons/utils/tfa_eol_msg.py:23: UserWarning: \n",
      "\n",
      "TensorFlow Addons (TFA) has ended development and introduction of new features.\n",
      "TFA has entered a minimal maintenance and release mode until a planned end of life in May 2024.\n",
      "Please modify downstream libraries to take dependencies from other repositories in our TensorFlow community (e.g. Keras, Keras-CV, and Keras-NLP). \n",
      "\n",
      "For more information see: https://github.com/tensorflow/addons/issues/2807 \n",
      "\n",
      "  warnings.warn(\n",
      "/home/bongo/tensorflow/tfl/lib/python3.8/site-packages/tensorflow_addons/utils/ensure_tf_install.py:53: UserWarning: Tensorflow Addons supports using Python ops for all Tensorflow versions above or equal to 2.11.0 and strictly below 2.14.0 (nightly versions are not supported). \n",
      " The versions of TensorFlow you are currently using is 2.8.0 and is not supported. \n",
      "Some things might work, some things might not.\n",
      "If you were to encounter a bug, do not file an issue.\n",
      "If you want to make sure you're using a tested and supported configuration, either change the TensorFlow version or the TensorFlow Addons's version. \n",
      "You can find the compatibility matrix in TensorFlow Addon's readme:\n",
      "https://github.com/tensorflow/addons\n",
      "  warnings.warn(\n",
      "/home/bongo/tensorflow/tfl/lib/python3.8/site-packages/tqdm/auto.py:21: TqdmWarning: IProgress not found. Please update jupyter and ipywidgets. See https://ipywidgets.readthedocs.io/en/stable/user_install.html\n",
      "  from .autonotebook import tqdm as notebook_tqdm\n"
     ]
    }
   ],
   "source": [
    "import numpy as np\n",
    "import os\n",
    "\n",
    "from tflite_model_maker.config import ExportFormat\n",
    "from tflite_model_maker import model_spec\n",
    "from tflite_model_maker import object_detector\n",
    "\n",
    "import tensorflow as tf\n",
    "assert tf.__version__.startswith('2')\n",
    "\n",
    "tf.get_logger().setLevel('ERROR')\n",
    "from absl import logging\n",
    "logging.set_verbosity(logging.ERROR)"
   ]
  },
  {
   "cell_type": "markdown",
   "id": "9b3887ed-de83-4653-b8bd-c2884f32ec65",
   "metadata": {},
   "source": [
    "### Dataset variables"
   ]
  },
  {
   "cell_type": "code",
   "execution_count": 2,
   "id": "1abb8305-7f13-4f67-8490-c9ecceb3bb88",
   "metadata": {},
   "outputs": [],
   "source": [
    "label_map = {1: 'drone'} \n",
    "DATASET = 'workspace/images/dataset'\n",
    "#DATASET = 'workspace/images/dataset2'\n",
    "\n",
    "train_images_dir = os.path.join(DATASET, 'train', 'images')\n",
    "train_annotations_dir = os.path.join(DATASET, 'train', 'annotations')\n",
    "val_images_dir = os.path.join(DATASET, 'validation', 'images')\n",
    "val_annotations_dir = os.path.join(DATASET, 'validation', 'annotations')\n",
    "test_images_dir = os.path.join(DATASET, 'test', 'images')\n",
    "test_annotations_dir = os.path.join(DATASET, 'test', 'annotations')"
   ]
  },
  {
   "cell_type": "markdown",
   "id": "fa6071dd-dc3d-4902-a1d8-3e79de2b0662",
   "metadata": {},
   "source": [
    "### DataLoader"
   ]
  },
  {
   "cell_type": "code",
   "execution_count": 3,
   "id": "163426e9-a2b7-4a52-b51f-7d6842200fe3",
   "metadata": {},
   "outputs": [],
   "source": [
    "train_data = object_detector.DataLoader.from_pascal_voc(train_images_dir, train_annotations_dir, label_map=label_map)\n",
    "validation_data = object_detector.DataLoader.from_pascal_voc(val_images_dir, val_annotations_dir, label_map=label_map)\n",
    "test_data = object_detector.DataLoader.from_pascal_voc(test_images_dir, test_annotations_dir, label_map=label_map)"
   ]
  },
  {
   "cell_type": "code",
   "execution_count": 4,
   "id": "d6785af5-b11b-4177-9498-b1f18e6d877d",
   "metadata": {},
   "outputs": [
    {
     "name": "stdout",
     "output_type": "stream",
     "text": [
      "train count: 1350\n",
      "validation count: 58\n",
      "test count: 58\n"
     ]
    }
   ],
   "source": [
    "print(f'train count: {len(train_data)}')\n",
    "print(f'validation count: {len(validation_data)}')\n",
    "print(f'test count: {len(test_data)}')"
   ]
  },
  {
   "cell_type": "markdown",
   "id": "00963253-46b9-4520-a228-d63e2f783ca1",
   "metadata": {},
   "source": [
    "### Training"
   ]
  },
  {
   "cell_type": "code",
   "execution_count": 5,
   "id": "bf8a3402-ecdd-4927-bef8-677814074899",
   "metadata": {},
   "outputs": [
    {
     "name": "stderr",
     "output_type": "stream",
     "text": [
      "2023-10-10 20:48:01.589757: I tensorflow/core/platform/cpu_feature_guard.cc:151] This TensorFlow binary is optimized with oneAPI Deep Neural Network Library (oneDNN) to use the following CPU instructions in performance-critical operations:  AVX2 FMA\n",
      "To enable them in other operations, rebuild TensorFlow with the appropriate compiler flags.\n",
      "2023-10-10 20:48:03.038555: I tensorflow/core/common_runtime/gpu/gpu_device.cc:1525] Created device /job:localhost/replica:0/task:0/device:GPU:0 with 4489 MB memory:  -> device: 0, name: GeForce GTX 1060 6GB, pci bus id: 0000:03:00.0, compute capability: 6.1\n"
     ]
    }
   ],
   "source": [
    "spec = model_spec.get('efficientdet_lite0')"
   ]
  },
  {
   "cell_type": "code",
   "execution_count": 5,
   "id": "87b1ad81-e971-4827-bd53-5b3a0e2c529c",
   "metadata": {},
   "outputs": [
    {
     "name": "stderr",
     "output_type": "stream",
     "text": [
      "2023-10-11 17:34:48.863950: I tensorflow/core/platform/cpu_feature_guard.cc:151] This TensorFlow binary is optimized with oneAPI Deep Neural Network Library (oneDNN) to use the following CPU instructions in performance-critical operations:  AVX2 FMA\n",
      "To enable them in other operations, rebuild TensorFlow with the appropriate compiler flags.\n",
      "2023-10-11 17:34:50.304406: I tensorflow/core/common_runtime/gpu/gpu_device.cc:1525] Created device /job:localhost/replica:0/task:0/device:GPU:0 with 4030 MB memory:  -> device: 0, name: GeForce GTX 1060 6GB, pci bus id: 0000:03:00.0, compute capability: 6.1\n"
     ]
    }
   ],
   "source": [
    "spec = object_detector.EfficientDetLite0Spec(\n",
    "    hparams={\n",
    "        'num_classes': 1,\n",
    "        'alpha': 0.5,\n",
    "        }  \n",
    ")"
   ]
  },
  {
   "cell_type": "code",
   "execution_count": 5,
   "id": "ff7e6351-aeb5-43b1-9d46-b941d7533c2e",
   "metadata": {},
   "outputs": [
    {
     "name": "stderr",
     "output_type": "stream",
     "text": [
      "2023-10-08 16:27:32.209744: I tensorflow/core/platform/cpu_feature_guard.cc:151] This TensorFlow binary is optimized with oneAPI Deep Neural Network Library (oneDNN) to use the following CPU instructions in performance-critical operations:  AVX2 FMA\n",
      "To enable them in other operations, rebuild TensorFlow with the appropriate compiler flags.\n",
      "2023-10-08 16:27:33.653605: I tensorflow/core/common_runtime/gpu/gpu_device.cc:1525] Created device /job:localhost/replica:0/task:0/device:GPU:0 with 4711 MB memory:  -> device: 0, name: GeForce GTX 1060 6GB, pci bus id: 0000:03:00.0, compute capability: 6.1\n"
     ]
    }
   ],
   "source": [
    "spec = object_detector.EfficientDetLite0Spec()"
   ]
  },
  {
   "cell_type": "code",
   "execution_count": 6,
   "id": "4980ccc3-294c-48e9-aada-7bce278e6db8",
   "metadata": {},
   "outputs": [
    {
     "name": "stdout",
     "output_type": "stream",
     "text": [
      "Epoch 1/150\n"
     ]
    },
    {
     "name": "stderr",
     "output_type": "stream",
     "text": [
      "2023-10-11 17:35:28.303033: I tensorflow/stream_executor/cuda/cuda_dnn.cc:368] Loaded cuDNN version 8101\n"
     ]
    },
    {
     "name": "stdout",
     "output_type": "stream",
     "text": [
      "135/135 [==============================] - 72s 300ms/step - det_loss: 2.0761 - cls_loss: 1.2265 - box_loss: 0.0170 - reg_l2_loss: 0.0643 - loss: 2.1404 - learning_rate: 0.0196 - gradient_norm: 7.1590 - val_det_loss: 7.1207 - val_cls_loss: 5.5896 - val_box_loss: 0.0306 - val_reg_l2_loss: 0.0667 - val_loss: 7.1874\n",
      "Epoch 2/150\n",
      "135/135 [==============================] - 38s 284ms/step - det_loss: 1.8361 - cls_loss: 1.1570 - box_loss: 0.0136 - reg_l2_loss: 0.0690 - loss: 1.9051 - learning_rate: 0.0312 - gradient_norm: 4.4680 - val_det_loss: 5.3208 - val_cls_loss: 3.4477 - val_box_loss: 0.0375 - val_reg_l2_loss: 0.0708 - val_loss: 5.3916\n",
      "Epoch 3/150\n",
      "135/135 [==============================] - 39s 286ms/step - det_loss: 1.5038 - cls_loss: 0.9337 - box_loss: 0.0114 - reg_l2_loss: 0.0717 - loss: 1.5755 - learning_rate: 0.0312 - gradient_norm: 3.2645 - val_det_loss: 2.0163 - val_cls_loss: 1.3532 - val_box_loss: 0.0133 - val_reg_l2_loss: 0.0726 - val_loss: 2.0889\n",
      "Epoch 4/150\n",
      "135/135 [==============================] - 39s 286ms/step - det_loss: 1.3888 - cls_loss: 0.8151 - box_loss: 0.0115 - reg_l2_loss: 0.0736 - loss: 1.4624 - learning_rate: 0.0312 - gradient_norm: 3.1422 - val_det_loss: 2.7074 - val_cls_loss: 1.6476 - val_box_loss: 0.0212 - val_reg_l2_loss: 0.0745 - val_loss: 2.7819\n",
      "Epoch 5/150\n",
      "135/135 [==============================] - 43s 320ms/step - det_loss: 1.2130 - cls_loss: 0.6919 - box_loss: 0.0104 - reg_l2_loss: 0.0752 - loss: 1.2882 - learning_rate: 0.0312 - gradient_norm: 2.7500 - val_det_loss: 10.1685 - val_cls_loss: 9.3269 - val_box_loss: 0.0168 - val_reg_l2_loss: 0.0757 - val_loss: 10.2442\n",
      "Epoch 6/150\n",
      "135/135 [==============================] - 38s 283ms/step - det_loss: 1.1361 - cls_loss: 0.6467 - box_loss: 0.0098 - reg_l2_loss: 0.0764 - loss: 1.2124 - learning_rate: 0.0311 - gradient_norm: 2.7987 - val_det_loss: 1.1768 - val_cls_loss: 0.8060 - val_box_loss: 0.0074 - val_reg_l2_loss: 0.0771 - val_loss: 1.2539\n",
      "Epoch 7/150\n",
      "135/135 [==============================] - 39s 287ms/step - det_loss: 1.0884 - cls_loss: 0.6114 - box_loss: 0.0095 - reg_l2_loss: 0.0776 - loss: 1.1660 - learning_rate: 0.0311 - gradient_norm: 2.5215 - val_det_loss: 1.2427 - val_cls_loss: 0.6173 - val_box_loss: 0.0125 - val_reg_l2_loss: 0.0781 - val_loss: 1.3208\n",
      "Epoch 8/150\n",
      "135/135 [==============================] - 38s 283ms/step - det_loss: 1.0474 - cls_loss: 0.5978 - box_loss: 0.0090 - reg_l2_loss: 0.0786 - loss: 1.1260 - learning_rate: 0.0311 - gradient_norm: 2.5381 - val_det_loss: 0.8112 - val_cls_loss: 0.4528 - val_box_loss: 0.0072 - val_reg_l2_loss: 0.0792 - val_loss: 0.8905\n",
      "Epoch 9/150\n",
      "135/135 [==============================] - 38s 285ms/step - det_loss: 0.9494 - cls_loss: 0.5304 - box_loss: 0.0084 - reg_l2_loss: 0.0797 - loss: 1.0290 - learning_rate: 0.0310 - gradient_norm: 2.3322 - val_det_loss: 2.5145 - val_cls_loss: 1.2959 - val_box_loss: 0.0244 - val_reg_l2_loss: 0.0801 - val_loss: 2.5946\n",
      "Epoch 10/150\n",
      "135/135 [==============================] - 40s 297ms/step - det_loss: 1.0123 - cls_loss: 0.5783 - box_loss: 0.0087 - reg_l2_loss: 0.0806 - loss: 1.0929 - learning_rate: 0.0309 - gradient_norm: 2.6199 - val_det_loss: 0.8621 - val_cls_loss: 0.5273 - val_box_loss: 0.0067 - val_reg_l2_loss: 0.0811 - val_loss: 0.9432\n",
      "Epoch 11/150\n",
      "135/135 [==============================] - 39s 291ms/step - det_loss: 0.9782 - cls_loss: 0.5390 - box_loss: 0.0088 - reg_l2_loss: 0.0820 - loss: 1.0603 - learning_rate: 0.0309 - gradient_norm: 2.5548 - val_det_loss: 1.8029 - val_cls_loss: 1.0943 - val_box_loss: 0.0142 - val_reg_l2_loss: 0.0827 - val_loss: 1.8856\n",
      "Epoch 12/150\n",
      "135/135 [==============================] - 38s 283ms/step - det_loss: 0.9661 - cls_loss: 0.5413 - box_loss: 0.0085 - reg_l2_loss: 0.0832 - loss: 1.0493 - learning_rate: 0.0308 - gradient_norm: 2.4348 - val_det_loss: 2.7191 - val_cls_loss: 1.8580 - val_box_loss: 0.0172 - val_reg_l2_loss: 0.0837 - val_loss: 2.8028\n",
      "Epoch 13/150\n",
      "135/135 [==============================] - 38s 284ms/step - det_loss: 0.9386 - cls_loss: 0.5006 - box_loss: 0.0088 - reg_l2_loss: 0.0840 - loss: 1.0226 - learning_rate: 0.0307 - gradient_norm: 2.2118 - val_det_loss: 0.9371 - val_cls_loss: 0.4912 - val_box_loss: 0.0089 - val_reg_l2_loss: 0.0844 - val_loss: 1.0215\n",
      "Epoch 14/150\n",
      "135/135 [==============================] - 38s 284ms/step - det_loss: 0.8056 - cls_loss: 0.4539 - box_loss: 0.0070 - reg_l2_loss: 0.0847 - loss: 0.8902 - learning_rate: 0.0306 - gradient_norm: 2.1266 - val_det_loss: 0.6965 - val_cls_loss: 0.4789 - val_box_loss: 0.0044 - val_reg_l2_loss: 0.0849 - val_loss: 0.7814\n",
      "Epoch 15/150\n",
      "135/135 [==============================] - 40s 297ms/step - det_loss: 0.8215 - cls_loss: 0.4449 - box_loss: 0.0075 - reg_l2_loss: 0.0852 - loss: 0.9067 - learning_rate: 0.0305 - gradient_norm: 2.1312 - val_det_loss: 0.8648 - val_cls_loss: 0.4028 - val_box_loss: 0.0092 - val_reg_l2_loss: 0.0855 - val_loss: 0.9503\n",
      "Epoch 16/150\n",
      "135/135 [==============================] - 38s 285ms/step - det_loss: 0.9026 - cls_loss: 0.4911 - box_loss: 0.0082 - reg_l2_loss: 0.0860 - loss: 0.9886 - learning_rate: 0.0304 - gradient_norm: 2.4504 - val_det_loss: 0.8158 - val_cls_loss: 0.4702 - val_box_loss: 0.0069 - val_reg_l2_loss: 0.0865 - val_loss: 0.9023\n",
      "Epoch 17/150\n",
      "135/135 [==============================] - 38s 284ms/step - det_loss: 0.8269 - cls_loss: 0.4638 - box_loss: 0.0073 - reg_l2_loss: 0.0869 - loss: 0.9137 - learning_rate: 0.0303 - gradient_norm: 2.1054 - val_det_loss: 0.7822 - val_cls_loss: 0.3917 - val_box_loss: 0.0078 - val_reg_l2_loss: 0.0871 - val_loss: 0.8693\n",
      "Epoch 18/150\n",
      "135/135 [==============================] - 38s 284ms/step - det_loss: 0.7900 - cls_loss: 0.4389 - box_loss: 0.0070 - reg_l2_loss: 0.0874 - loss: 0.8774 - learning_rate: 0.0302 - gradient_norm: 2.1129 - val_det_loss: 0.8267 - val_cls_loss: 0.4569 - val_box_loss: 0.0074 - val_reg_l2_loss: 0.0877 - val_loss: 0.9144\n",
      "Epoch 19/150\n",
      "135/135 [==============================] - 39s 289ms/step - det_loss: 0.8311 - cls_loss: 0.4324 - box_loss: 0.0080 - reg_l2_loss: 0.0880 - loss: 0.9192 - learning_rate: 0.0301 - gradient_norm: 2.0811 - val_det_loss: 1.0507 - val_cls_loss: 0.4263 - val_box_loss: 0.0125 - val_reg_l2_loss: 0.0883 - val_loss: 1.1390\n",
      "Epoch 20/150\n",
      "135/135 [==============================] - 42s 310ms/step - det_loss: 0.7753 - cls_loss: 0.4148 - box_loss: 0.0072 - reg_l2_loss: 0.0885 - loss: 0.8638 - learning_rate: 0.0299 - gradient_norm: 2.0766 - val_det_loss: 0.5443 - val_cls_loss: 0.3208 - val_box_loss: 0.0045 - val_reg_l2_loss: 0.0887 - val_loss: 0.6331\n",
      "Epoch 21/150\n",
      "135/135 [==============================] - 39s 288ms/step - det_loss: 0.7358 - cls_loss: 0.4089 - box_loss: 0.0065 - reg_l2_loss: 0.0890 - loss: 0.8249 - learning_rate: 0.0298 - gradient_norm: 2.0464 - val_det_loss: 0.8631 - val_cls_loss: 0.3546 - val_box_loss: 0.0102 - val_reg_l2_loss: 0.0893 - val_loss: 0.9524\n",
      "Epoch 22/150\n",
      "135/135 [==============================] - 39s 291ms/step - det_loss: 0.7823 - cls_loss: 0.4263 - box_loss: 0.0071 - reg_l2_loss: 0.0899 - loss: 0.8722 - learning_rate: 0.0297 - gradient_norm: 2.2924 - val_det_loss: 0.6761 - val_cls_loss: 0.3416 - val_box_loss: 0.0067 - val_reg_l2_loss: 0.0903 - val_loss: 0.7664\n",
      "Epoch 23/150\n",
      "135/135 [==============================] - 40s 293ms/step - det_loss: 0.7807 - cls_loss: 0.4266 - box_loss: 0.0071 - reg_l2_loss: 0.0906 - loss: 0.8713 - learning_rate: 0.0295 - gradient_norm: 2.1255 - val_det_loss: 0.6347 - val_cls_loss: 0.2886 - val_box_loss: 0.0069 - val_reg_l2_loss: 0.0909 - val_loss: 0.7256\n",
      "Epoch 24/150\n",
      "135/135 [==============================] - 39s 291ms/step - det_loss: 0.7110 - cls_loss: 0.3959 - box_loss: 0.0063 - reg_l2_loss: 0.0911 - loss: 0.8021 - learning_rate: 0.0294 - gradient_norm: 1.9899 - val_det_loss: 0.5825 - val_cls_loss: 0.3138 - val_box_loss: 0.0054 - val_reg_l2_loss: 0.0913 - val_loss: 0.6738\n",
      "Epoch 25/150\n",
      "135/135 [==============================] - 40s 297ms/step - det_loss: 0.7393 - cls_loss: 0.4015 - box_loss: 0.0068 - reg_l2_loss: 0.0915 - loss: 0.8308 - learning_rate: 0.0292 - gradient_norm: 2.0037 - val_det_loss: 1.4251 - val_cls_loss: 0.6335 - val_box_loss: 0.0158 - val_reg_l2_loss: 0.0918 - val_loss: 1.5169\n",
      "Epoch 26/150\n",
      "135/135 [==============================] - 39s 291ms/step - det_loss: 0.7007 - cls_loss: 0.3908 - box_loss: 0.0062 - reg_l2_loss: 0.0920 - loss: 0.7927 - learning_rate: 0.0290 - gradient_norm: 1.9565 - val_det_loss: 0.6340 - val_cls_loss: 0.3324 - val_box_loss: 0.0060 - val_reg_l2_loss: 0.0923 - val_loss: 0.7262\n",
      "Epoch 27/150\n",
      "135/135 [==============================] - 39s 287ms/step - det_loss: 0.7064 - cls_loss: 0.3793 - box_loss: 0.0065 - reg_l2_loss: 0.0925 - loss: 0.7989 - learning_rate: 0.0289 - gradient_norm: 2.0020 - val_det_loss: 0.8690 - val_cls_loss: 0.3394 - val_box_loss: 0.0106 - val_reg_l2_loss: 0.0927 - val_loss: 0.9617\n",
      "Epoch 28/150\n",
      "135/135 [==============================] - 40s 297ms/step - det_loss: 0.6807 - cls_loss: 0.3663 - box_loss: 0.0063 - reg_l2_loss: 0.0929 - loss: 0.7737 - learning_rate: 0.0287 - gradient_norm: 1.9254 - val_det_loss: 0.8135 - val_cls_loss: 0.4028 - val_box_loss: 0.0082 - val_reg_l2_loss: 0.0931 - val_loss: 0.9067\n",
      "Epoch 29/150\n",
      "135/135 [==============================] - 39s 290ms/step - det_loss: 0.6514 - cls_loss: 0.3557 - box_loss: 0.0059 - reg_l2_loss: 0.0933 - loss: 0.7448 - learning_rate: 0.0285 - gradient_norm: 2.0191 - val_det_loss: 0.6131 - val_cls_loss: 0.3624 - val_box_loss: 0.0050 - val_reg_l2_loss: 0.0936 - val_loss: 0.7067\n",
      "Epoch 30/150\n",
      "135/135 [==============================] - 40s 299ms/step - det_loss: 0.6853 - cls_loss: 0.3792 - box_loss: 0.0061 - reg_l2_loss: 0.0938 - loss: 0.7791 - learning_rate: 0.0283 - gradient_norm: 1.9506 - val_det_loss: 0.6358 - val_cls_loss: 0.3959 - val_box_loss: 0.0048 - val_reg_l2_loss: 0.0940 - val_loss: 0.7299\n",
      "Epoch 31/150\n",
      "135/135 [==============================] - 39s 288ms/step - det_loss: 0.6789 - cls_loss: 0.3693 - box_loss: 0.0062 - reg_l2_loss: 0.0942 - loss: 0.7732 - learning_rate: 0.0281 - gradient_norm: 1.9164 - val_det_loss: 0.6373 - val_cls_loss: 0.3306 - val_box_loss: 0.0061 - val_reg_l2_loss: 0.0944 - val_loss: 0.7317\n",
      "Epoch 32/150\n",
      "135/135 [==============================] - 40s 296ms/step - det_loss: 0.6949 - cls_loss: 0.3719 - box_loss: 0.0065 - reg_l2_loss: 0.0945 - loss: 0.7894 - learning_rate: 0.0279 - gradient_norm: 2.0080 - val_det_loss: 0.9936 - val_cls_loss: 0.5011 - val_box_loss: 0.0098 - val_reg_l2_loss: 0.0947 - val_loss: 1.0883\n",
      "Epoch 33/150\n",
      "135/135 [==============================] - 39s 288ms/step - det_loss: 0.6188 - cls_loss: 0.3335 - box_loss: 0.0057 - reg_l2_loss: 0.0949 - loss: 0.7137 - learning_rate: 0.0277 - gradient_norm: 1.7697 - val_det_loss: 0.6165 - val_cls_loss: 0.3238 - val_box_loss: 0.0059 - val_reg_l2_loss: 0.0950 - val_loss: 0.7115\n",
      "Epoch 34/150\n",
      "135/135 [==============================] - 39s 291ms/step - det_loss: 0.6521 - cls_loss: 0.3527 - box_loss: 0.0060 - reg_l2_loss: 0.0951 - loss: 0.7473 - learning_rate: 0.0275 - gradient_norm: 1.9144 - val_det_loss: 0.5047 - val_cls_loss: 0.2933 - val_box_loss: 0.0042 - val_reg_l2_loss: 0.0953 - val_loss: 0.6000\n",
      "Epoch 35/150\n",
      "135/135 [==============================] - 41s 303ms/step - det_loss: 0.6683 - cls_loss: 0.3673 - box_loss: 0.0060 - reg_l2_loss: 0.0955 - loss: 0.7637 - learning_rate: 0.0273 - gradient_norm: 1.9704 - val_det_loss: 0.6523 - val_cls_loss: 0.3090 - val_box_loss: 0.0069 - val_reg_l2_loss: 0.0956 - val_loss: 0.7479\n",
      "Epoch 36/150\n",
      "135/135 [==============================] - 40s 294ms/step - det_loss: 0.6343 - cls_loss: 0.3515 - box_loss: 0.0057 - reg_l2_loss: 0.0957 - loss: 0.7300 - learning_rate: 0.0271 - gradient_norm: 1.8083 - val_det_loss: 1.0883 - val_cls_loss: 0.4565 - val_box_loss: 0.0126 - val_reg_l2_loss: 0.0959 - val_loss: 1.1842\n",
      "Epoch 37/150\n",
      "135/135 [==============================] - 39s 288ms/step - det_loss: 0.6313 - cls_loss: 0.3428 - box_loss: 0.0058 - reg_l2_loss: 0.0960 - loss: 0.7273 - learning_rate: 0.0268 - gradient_norm: 1.7476 - val_det_loss: 0.4853 - val_cls_loss: 0.2048 - val_box_loss: 0.0056 - val_reg_l2_loss: 0.0961 - val_loss: 0.5814\n",
      "Epoch 38/150\n",
      "135/135 [==============================] - 39s 288ms/step - det_loss: 0.6334 - cls_loss: 0.3421 - box_loss: 0.0058 - reg_l2_loss: 0.0962 - loss: 0.7296 - learning_rate: 0.0266 - gradient_norm: 1.8669 - val_det_loss: 1.4093 - val_cls_loss: 0.6876 - val_box_loss: 0.0144 - val_reg_l2_loss: 0.0963 - val_loss: 1.5056\n",
      "Epoch 39/150\n",
      "135/135 [==============================] - 39s 288ms/step - det_loss: 0.5875 - cls_loss: 0.3271 - box_loss: 0.0052 - reg_l2_loss: 0.0964 - loss: 0.6839 - learning_rate: 0.0264 - gradient_norm: 1.8186 - val_det_loss: 0.4753 - val_cls_loss: 0.2138 - val_box_loss: 0.0052 - val_reg_l2_loss: 0.0965 - val_loss: 0.5718\n",
      "Epoch 40/150\n",
      "135/135 [==============================] - 40s 300ms/step - det_loss: 0.5805 - cls_loss: 0.3296 - box_loss: 0.0050 - reg_l2_loss: 0.0966 - loss: 0.6772 - learning_rate: 0.0261 - gradient_norm: 1.8686 - val_det_loss: 0.4151 - val_cls_loss: 0.1814 - val_box_loss: 0.0047 - val_reg_l2_loss: 0.0967 - val_loss: 0.5119\n",
      "Epoch 41/150\n",
      "135/135 [==============================] - 39s 287ms/step - det_loss: 0.6341 - cls_loss: 0.3494 - box_loss: 0.0057 - reg_l2_loss: 0.0969 - loss: 0.7310 - learning_rate: 0.0259 - gradient_norm: 1.9758 - val_det_loss: 0.5144 - val_cls_loss: 0.2613 - val_box_loss: 0.0051 - val_reg_l2_loss: 0.0971 - val_loss: 0.6115\n",
      "Epoch 42/150\n",
      "135/135 [==============================] - 39s 286ms/step - det_loss: 0.5986 - cls_loss: 0.3358 - box_loss: 0.0053 - reg_l2_loss: 0.0973 - loss: 0.6959 - learning_rate: 0.0256 - gradient_norm: 1.8610 - val_det_loss: 0.4525 - val_cls_loss: 0.1913 - val_box_loss: 0.0052 - val_reg_l2_loss: 0.0974 - val_loss: 0.5499\n",
      "Epoch 43/150\n",
      "135/135 [==============================] - 39s 286ms/step - det_loss: 0.5488 - cls_loss: 0.3056 - box_loss: 0.0049 - reg_l2_loss: 0.0974 - loss: 0.6462 - learning_rate: 0.0254 - gradient_norm: 1.7049 - val_det_loss: 0.4293 - val_cls_loss: 0.2236 - val_box_loss: 0.0041 - val_reg_l2_loss: 0.0975 - val_loss: 0.5268\n",
      "Epoch 44/150\n",
      "135/135 [==============================] - 40s 294ms/step - det_loss: 0.5974 - cls_loss: 0.3326 - box_loss: 0.0053 - reg_l2_loss: 0.0976 - loss: 0.6950 - learning_rate: 0.0251 - gradient_norm: 1.8542 - val_det_loss: 0.3802 - val_cls_loss: 0.2164 - val_box_loss: 0.0033 - val_reg_l2_loss: 0.0977 - val_loss: 0.4779\n",
      "Epoch 45/150\n",
      "135/135 [==============================] - 41s 301ms/step - det_loss: 0.5629 - cls_loss: 0.3034 - box_loss: 0.0052 - reg_l2_loss: 0.0978 - loss: 0.6606 - learning_rate: 0.0249 - gradient_norm: 1.7867 - val_det_loss: 0.4030 - val_cls_loss: 0.1740 - val_box_loss: 0.0046 - val_reg_l2_loss: 0.0978 - val_loss: 0.5008\n",
      "Epoch 46/150\n",
      "135/135 [==============================] - 39s 292ms/step - det_loss: 0.5568 - cls_loss: 0.3071 - box_loss: 0.0050 - reg_l2_loss: 0.0979 - loss: 0.6547 - learning_rate: 0.0246 - gradient_norm: 1.7939 - val_det_loss: 0.3557 - val_cls_loss: 0.2075 - val_box_loss: 0.0030 - val_reg_l2_loss: 0.0980 - val_loss: 0.4537\n",
      "Epoch 47/150\n",
      "135/135 [==============================] - 39s 292ms/step - det_loss: 0.5297 - cls_loss: 0.2897 - box_loss: 0.0048 - reg_l2_loss: 0.0980 - loss: 0.6277 - learning_rate: 0.0243 - gradient_norm: 1.7567 - val_det_loss: 0.4259 - val_cls_loss: 0.2010 - val_box_loss: 0.0045 - val_reg_l2_loss: 0.0981 - val_loss: 0.5240\n",
      "Epoch 48/150\n",
      "135/135 [==============================] - 40s 295ms/step - det_loss: 0.5485 - cls_loss: 0.3020 - box_loss: 0.0049 - reg_l2_loss: 0.0982 - loss: 0.6467 - learning_rate: 0.0240 - gradient_norm: 1.7437 - val_det_loss: 0.5657 - val_cls_loss: 0.2194 - val_box_loss: 0.0069 - val_reg_l2_loss: 0.0982 - val_loss: 0.6639\n",
      "Epoch 49/150\n",
      "135/135 [==============================] - 40s 297ms/step - det_loss: 0.5938 - cls_loss: 0.3309 - box_loss: 0.0053 - reg_l2_loss: 0.0983 - loss: 0.6921 - learning_rate: 0.0238 - gradient_norm: 1.8905 - val_det_loss: 0.4520 - val_cls_loss: 0.2016 - val_box_loss: 0.0050 - val_reg_l2_loss: 0.0984 - val_loss: 0.5504\n",
      "Epoch 50/150\n",
      "135/135 [==============================] - 40s 297ms/step - det_loss: 0.5307 - cls_loss: 0.2981 - box_loss: 0.0047 - reg_l2_loss: 0.0985 - loss: 0.6292 - learning_rate: 0.0235 - gradient_norm: 1.7192 - val_det_loss: 0.5315 - val_cls_loss: 0.1845 - val_box_loss: 0.0069 - val_reg_l2_loss: 0.0985 - val_loss: 0.6300\n",
      "Epoch 51/150\n",
      "135/135 [==============================] - 39s 288ms/step - det_loss: 0.5947 - cls_loss: 0.3367 - box_loss: 0.0052 - reg_l2_loss: 0.0987 - loss: 0.6933 - learning_rate: 0.0232 - gradient_norm: 1.9150 - val_det_loss: 0.6423 - val_cls_loss: 0.2219 - val_box_loss: 0.0084 - val_reg_l2_loss: 0.0988 - val_loss: 0.7411\n",
      "Epoch 52/150\n",
      "135/135 [==============================] - 39s 290ms/step - det_loss: 0.5331 - cls_loss: 0.2859 - box_loss: 0.0049 - reg_l2_loss: 0.0988 - loss: 0.6320 - learning_rate: 0.0229 - gradient_norm: 1.7611 - val_det_loss: 0.4340 - val_cls_loss: 0.1992 - val_box_loss: 0.0047 - val_reg_l2_loss: 0.0989 - val_loss: 0.5329\n",
      "Epoch 53/150\n",
      "135/135 [==============================] - 40s 295ms/step - det_loss: 0.5362 - cls_loss: 0.3030 - box_loss: 0.0047 - reg_l2_loss: 0.0989 - loss: 0.6351 - learning_rate: 0.0226 - gradient_norm: 1.7772 - val_det_loss: 0.4528 - val_cls_loss: 0.1737 - val_box_loss: 0.0056 - val_reg_l2_loss: 0.0990 - val_loss: 0.5518\n",
      "Epoch 54/150\n",
      "135/135 [==============================] - 39s 290ms/step - det_loss: 0.5261 - cls_loss: 0.2916 - box_loss: 0.0047 - reg_l2_loss: 0.0990 - loss: 0.6251 - learning_rate: 0.0223 - gradient_norm: 1.6822 - val_det_loss: 0.4338 - val_cls_loss: 0.1852 - val_box_loss: 0.0050 - val_reg_l2_loss: 0.0990 - val_loss: 0.5328\n",
      "Epoch 55/150\n",
      "135/135 [==============================] - 40s 298ms/step - det_loss: 0.5653 - cls_loss: 0.3172 - box_loss: 0.0050 - reg_l2_loss: 0.0991 - loss: 0.6644 - learning_rate: 0.0220 - gradient_norm: 1.8643 - val_det_loss: 0.5860 - val_cls_loss: 0.2093 - val_box_loss: 0.0075 - val_reg_l2_loss: 0.0992 - val_loss: 0.6852\n",
      "Epoch 56/150\n",
      "135/135 [==============================] - 39s 287ms/step - det_loss: 0.5564 - cls_loss: 0.3060 - box_loss: 0.0050 - reg_l2_loss: 0.0993 - loss: 0.6557 - learning_rate: 0.0217 - gradient_norm: 1.8118 - val_det_loss: 0.3798 - val_cls_loss: 0.1618 - val_box_loss: 0.0044 - val_reg_l2_loss: 0.0994 - val_loss: 0.4792\n",
      "Epoch 57/150\n",
      "135/135 [==============================] - 40s 296ms/step - det_loss: 0.5212 - cls_loss: 0.2883 - box_loss: 0.0047 - reg_l2_loss: 0.0995 - loss: 0.6207 - learning_rate: 0.0214 - gradient_norm: 1.8889 - val_det_loss: 0.5973 - val_cls_loss: 0.2151 - val_box_loss: 0.0076 - val_reg_l2_loss: 0.0996 - val_loss: 0.6969\n",
      "Epoch 58/150\n",
      "135/135 [==============================] - 39s 287ms/step - det_loss: 0.5418 - cls_loss: 0.3002 - box_loss: 0.0048 - reg_l2_loss: 0.0996 - loss: 0.6414 - learning_rate: 0.0211 - gradient_norm: 1.7795 - val_det_loss: 0.5343 - val_cls_loss: 0.2104 - val_box_loss: 0.0065 - val_reg_l2_loss: 0.0996 - val_loss: 0.6340\n",
      "Epoch 59/150\n",
      "135/135 [==============================] - 39s 287ms/step - det_loss: 0.4908 - cls_loss: 0.2745 - box_loss: 0.0043 - reg_l2_loss: 0.0997 - loss: 0.5905 - learning_rate: 0.0208 - gradient_norm: 1.7994 - val_det_loss: 0.3839 - val_cls_loss: 0.1821 - val_box_loss: 0.0040 - val_reg_l2_loss: 0.0998 - val_loss: 0.4837\n",
      "Epoch 60/150\n",
      "135/135 [==============================] - 40s 298ms/step - det_loss: 0.4857 - cls_loss: 0.2690 - box_loss: 0.0043 - reg_l2_loss: 0.0998 - loss: 0.5855 - learning_rate: 0.0205 - gradient_norm: 1.7504 - val_det_loss: 0.3215 - val_cls_loss: 0.1691 - val_box_loss: 0.0030 - val_reg_l2_loss: 0.0998 - val_loss: 0.4213\n",
      "Epoch 61/150\n",
      "135/135 [==============================] - 40s 294ms/step - det_loss: 0.4719 - cls_loss: 0.2638 - box_loss: 0.0042 - reg_l2_loss: 0.0998 - loss: 0.5718 - learning_rate: 0.0202 - gradient_norm: 1.6761 - val_det_loss: 0.3182 - val_cls_loss: 0.1550 - val_box_loss: 0.0033 - val_reg_l2_loss: 0.0999 - val_loss: 0.4180\n",
      "Epoch 62/150\n",
      "135/135 [==============================] - 39s 291ms/step - det_loss: 0.4943 - cls_loss: 0.2791 - box_loss: 0.0043 - reg_l2_loss: 0.0999 - loss: 0.5942 - learning_rate: 0.0199 - gradient_norm: 1.7737 - val_det_loss: 0.4549 - val_cls_loss: 0.1854 - val_box_loss: 0.0054 - val_reg_l2_loss: 0.0999 - val_loss: 0.5548\n",
      "Epoch 63/150\n",
      "135/135 [==============================] - 39s 291ms/step - det_loss: 0.5121 - cls_loss: 0.2871 - box_loss: 0.0045 - reg_l2_loss: 0.0999 - loss: 0.6120 - learning_rate: 0.0195 - gradient_norm: 1.8305 - val_det_loss: 0.4282 - val_cls_loss: 0.1688 - val_box_loss: 0.0052 - val_reg_l2_loss: 0.0999 - val_loss: 0.5281\n",
      "Epoch 64/150\n",
      "135/135 [==============================] - 39s 288ms/step - det_loss: 0.4959 - cls_loss: 0.2766 - box_loss: 0.0044 - reg_l2_loss: 0.1000 - loss: 0.5959 - learning_rate: 0.0192 - gradient_norm: 1.7283 - val_det_loss: 0.4793 - val_cls_loss: 0.1845 - val_box_loss: 0.0059 - val_reg_l2_loss: 0.1000 - val_loss: 0.5793\n",
      "Epoch 65/150\n",
      "135/135 [==============================] - 41s 303ms/step - det_loss: 0.4821 - cls_loss: 0.2662 - box_loss: 0.0043 - reg_l2_loss: 0.1000 - loss: 0.5821 - learning_rate: 0.0189 - gradient_norm: 1.7199 - val_det_loss: 0.4103 - val_cls_loss: 0.2088 - val_box_loss: 0.0040 - val_reg_l2_loss: 0.1000 - val_loss: 0.5103\n",
      "Epoch 66/150\n",
      "135/135 [==============================] - 38s 285ms/step - det_loss: 0.4664 - cls_loss: 0.2661 - box_loss: 0.0040 - reg_l2_loss: 0.1000 - loss: 0.5665 - learning_rate: 0.0186 - gradient_norm: 1.6991 - val_det_loss: 0.4406 - val_cls_loss: 0.1824 - val_box_loss: 0.0052 - val_reg_l2_loss: 0.1000 - val_loss: 0.5406\n",
      "Epoch 67/150\n",
      "135/135 [==============================] - 38s 285ms/step - det_loss: 0.4643 - cls_loss: 0.2603 - box_loss: 0.0041 - reg_l2_loss: 0.1000 - loss: 0.5643 - learning_rate: 0.0182 - gradient_norm: 1.6859 - val_det_loss: 0.3905 - val_cls_loss: 0.1594 - val_box_loss: 0.0046 - val_reg_l2_loss: 0.1001 - val_loss: 0.4905\n",
      "Epoch 68/150\n",
      "135/135 [==============================] - 39s 289ms/step - det_loss: 0.4601 - cls_loss: 0.2657 - box_loss: 0.0039 - reg_l2_loss: 0.1001 - loss: 0.5601 - learning_rate: 0.0179 - gradient_norm: 1.7735 - val_det_loss: 0.4011 - val_cls_loss: 0.1899 - val_box_loss: 0.0042 - val_reg_l2_loss: 0.1001 - val_loss: 0.5012\n",
      "Epoch 69/150\n",
      "135/135 [==============================] - 39s 291ms/step - det_loss: 0.4915 - cls_loss: 0.2690 - box_loss: 0.0044 - reg_l2_loss: 0.1001 - loss: 0.5916 - learning_rate: 0.0176 - gradient_norm: 1.8076 - val_det_loss: 0.3577 - val_cls_loss: 0.1642 - val_box_loss: 0.0039 - val_reg_l2_loss: 0.1001 - val_loss: 0.4578\n",
      "Epoch 70/150\n",
      "135/135 [==============================] - 40s 295ms/step - det_loss: 0.4797 - cls_loss: 0.2611 - box_loss: 0.0044 - reg_l2_loss: 0.1001 - loss: 0.5798 - learning_rate: 0.0173 - gradient_norm: 1.7301 - val_det_loss: 0.3739 - val_cls_loss: 0.1674 - val_box_loss: 0.0041 - val_reg_l2_loss: 0.1002 - val_loss: 0.4741\n",
      "Epoch 71/150\n",
      "135/135 [==============================] - 38s 284ms/step - det_loss: 0.4622 - cls_loss: 0.2717 - box_loss: 0.0038 - reg_l2_loss: 0.1002 - loss: 0.5624 - learning_rate: 0.0169 - gradient_norm: 1.8249 - val_det_loss: 0.3744 - val_cls_loss: 0.1956 - val_box_loss: 0.0036 - val_reg_l2_loss: 0.1002 - val_loss: 0.4746\n",
      "Epoch 72/150\n",
      "135/135 [==============================] - 38s 283ms/step - det_loss: 0.4620 - cls_loss: 0.2548 - box_loss: 0.0041 - reg_l2_loss: 0.1002 - loss: 0.5622 - learning_rate: 0.0166 - gradient_norm: 1.7294 - val_det_loss: 0.4114 - val_cls_loss: 0.2114 - val_box_loss: 0.0040 - val_reg_l2_loss: 0.1002 - val_loss: 0.5116\n",
      "Epoch 73/150\n",
      "135/135 [==============================] - 38s 283ms/step - det_loss: 0.4470 - cls_loss: 0.2511 - box_loss: 0.0039 - reg_l2_loss: 0.1002 - loss: 0.5472 - learning_rate: 0.0163 - gradient_norm: 1.7007 - val_det_loss: 0.4291 - val_cls_loss: 0.2272 - val_box_loss: 0.0040 - val_reg_l2_loss: 0.1002 - val_loss: 0.5293\n",
      "Epoch 74/150\n",
      "135/135 [==============================] - 39s 287ms/step - det_loss: 0.4437 - cls_loss: 0.2595 - box_loss: 0.0037 - reg_l2_loss: 0.1002 - loss: 0.5439 - learning_rate: 0.0160 - gradient_norm: 1.7113 - val_det_loss: 0.3684 - val_cls_loss: 0.1852 - val_box_loss: 0.0037 - val_reg_l2_loss: 0.1002 - val_loss: 0.4687\n",
      "Epoch 75/150\n",
      "135/135 [==============================] - 40s 294ms/step - det_loss: 0.4398 - cls_loss: 0.2545 - box_loss: 0.0037 - reg_l2_loss: 0.1002 - loss: 0.5400 - learning_rate: 0.0156 - gradient_norm: 1.7100 - val_det_loss: 0.6264 - val_cls_loss: 0.2708 - val_box_loss: 0.0071 - val_reg_l2_loss: 0.1003 - val_loss: 0.7267\n",
      "Epoch 76/150\n",
      "135/135 [==============================] - 38s 282ms/step - det_loss: 0.4321 - cls_loss: 0.2514 - box_loss: 0.0036 - reg_l2_loss: 0.1003 - loss: 0.5323 - learning_rate: 0.0153 - gradient_norm: 1.6674 - val_det_loss: 0.4207 - val_cls_loss: 0.1670 - val_box_loss: 0.0051 - val_reg_l2_loss: 0.1003 - val_loss: 0.5209\n",
      "Epoch 77/150\n",
      "135/135 [==============================] - 38s 284ms/step - det_loss: 0.4304 - cls_loss: 0.2457 - box_loss: 0.0037 - reg_l2_loss: 0.1002 - loss: 0.5307 - learning_rate: 0.0150 - gradient_norm: 1.7413 - val_det_loss: 0.4077 - val_cls_loss: 0.1689 - val_box_loss: 0.0048 - val_reg_l2_loss: 0.1002 - val_loss: 0.5079\n",
      "Epoch 78/150\n",
      "135/135 [==============================] - 39s 288ms/step - det_loss: 0.4227 - cls_loss: 0.2409 - box_loss: 0.0036 - reg_l2_loss: 0.1002 - loss: 0.5229 - learning_rate: 0.0146 - gradient_norm: 1.6932 - val_det_loss: 0.4068 - val_cls_loss: 0.1648 - val_box_loss: 0.0048 - val_reg_l2_loss: 0.1002 - val_loss: 0.5070\n",
      "Epoch 79/150\n",
      "135/135 [==============================] - 38s 281ms/step - det_loss: 0.4299 - cls_loss: 0.2490 - box_loss: 0.0036 - reg_l2_loss: 0.1002 - loss: 0.5302 - learning_rate: 0.0143 - gradient_norm: 1.7611 - val_det_loss: 0.3291 - val_cls_loss: 0.1707 - val_box_loss: 0.0032 - val_reg_l2_loss: 0.1002 - val_loss: 0.4293\n",
      "Epoch 80/150\n",
      "135/135 [==============================] - 39s 291ms/step - det_loss: 0.4552 - cls_loss: 0.2592 - box_loss: 0.0039 - reg_l2_loss: 0.1002 - loss: 0.5554 - learning_rate: 0.0140 - gradient_norm: 1.8390 - val_det_loss: 0.4626 - val_cls_loss: 0.1908 - val_box_loss: 0.0054 - val_reg_l2_loss: 0.1002 - val_loss: 0.5628\n",
      "Epoch 81/150\n",
      "135/135 [==============================] - 38s 282ms/step - det_loss: 0.4025 - cls_loss: 0.2336 - box_loss: 0.0034 - reg_l2_loss: 0.1002 - loss: 0.5027 - learning_rate: 0.0137 - gradient_norm: 1.6318 - val_det_loss: 0.3600 - val_cls_loss: 0.1264 - val_box_loss: 0.0047 - val_reg_l2_loss: 0.1002 - val_loss: 0.4602\n",
      "Epoch 82/150\n",
      "135/135 [==============================] - 39s 288ms/step - det_loss: 0.4173 - cls_loss: 0.2432 - box_loss: 0.0035 - reg_l2_loss: 0.1002 - loss: 0.5175 - learning_rate: 0.0133 - gradient_norm: 1.6555 - val_det_loss: 0.3369 - val_cls_loss: 0.1638 - val_box_loss: 0.0035 - val_reg_l2_loss: 0.1002 - val_loss: 0.4371\n",
      "Epoch 83/150\n",
      "135/135 [==============================] - 39s 287ms/step - det_loss: 0.3985 - cls_loss: 0.2329 - box_loss: 0.0033 - reg_l2_loss: 0.1001 - loss: 0.4986 - learning_rate: 0.0130 - gradient_norm: 1.6452 - val_det_loss: 0.2774 - val_cls_loss: 0.1315 - val_box_loss: 0.0029 - val_reg_l2_loss: 0.1001 - val_loss: 0.3775\n",
      "Epoch 84/150\n",
      "135/135 [==============================] - 39s 287ms/step - det_loss: 0.3862 - cls_loss: 0.2261 - box_loss: 0.0032 - reg_l2_loss: 0.1001 - loss: 0.4863 - learning_rate: 0.0127 - gradient_norm: 1.5960 - val_det_loss: 0.4110 - val_cls_loss: 0.1621 - val_box_loss: 0.0050 - val_reg_l2_loss: 0.1001 - val_loss: 0.5111\n",
      "Epoch 85/150\n",
      "135/135 [==============================] - 40s 297ms/step - det_loss: 0.3788 - cls_loss: 0.2287 - box_loss: 0.0030 - reg_l2_loss: 0.1001 - loss: 0.4789 - learning_rate: 0.0124 - gradient_norm: 1.6202 - val_det_loss: 0.3917 - val_cls_loss: 0.2055 - val_box_loss: 0.0037 - val_reg_l2_loss: 0.1000 - val_loss: 0.4918\n",
      "Epoch 86/150\n",
      "135/135 [==============================] - 39s 288ms/step - det_loss: 0.4119 - cls_loss: 0.2377 - box_loss: 0.0035 - reg_l2_loss: 0.1000 - loss: 0.5119 - learning_rate: 0.0120 - gradient_norm: 1.7667 - val_det_loss: 0.3751 - val_cls_loss: 0.1328 - val_box_loss: 0.0048 - val_reg_l2_loss: 0.1000 - val_loss: 0.4751\n",
      "Epoch 87/150\n",
      "135/135 [==============================] - 38s 283ms/step - det_loss: 0.3865 - cls_loss: 0.2316 - box_loss: 0.0031 - reg_l2_loss: 0.1000 - loss: 0.4865 - learning_rate: 0.0117 - gradient_norm: 1.6318 - val_det_loss: 0.3224 - val_cls_loss: 0.1551 - val_box_loss: 0.0033 - val_reg_l2_loss: 0.1000 - val_loss: 0.4224\n",
      "Epoch 88/150\n",
      "135/135 [==============================] - 38s 285ms/step - det_loss: 0.3848 - cls_loss: 0.2308 - box_loss: 0.0031 - reg_l2_loss: 0.1000 - loss: 0.4847 - learning_rate: 0.0114 - gradient_norm: 1.6664 - val_det_loss: 0.3468 - val_cls_loss: 0.1634 - val_box_loss: 0.0037 - val_reg_l2_loss: 0.0999 - val_loss: 0.4468\n",
      "Epoch 89/150\n",
      "135/135 [==============================] - 41s 301ms/step - det_loss: 0.4212 - cls_loss: 0.2400 - box_loss: 0.0036 - reg_l2_loss: 0.0999 - loss: 0.5211 - learning_rate: 0.0111 - gradient_norm: 1.8418 - val_det_loss: 0.3326 - val_cls_loss: 0.1273 - val_box_loss: 0.0041 - val_reg_l2_loss: 0.0999 - val_loss: 0.4325\n",
      "Epoch 90/150\n",
      "135/135 [==============================] - 40s 299ms/step - det_loss: 0.3716 - cls_loss: 0.2179 - box_loss: 0.0031 - reg_l2_loss: 0.0999 - loss: 0.4715 - learning_rate: 0.0108 - gradient_norm: 1.6604 - val_det_loss: 0.2979 - val_cls_loss: 0.1117 - val_box_loss: 0.0037 - val_reg_l2_loss: 0.0999 - val_loss: 0.3978\n",
      "Epoch 91/150\n",
      "135/135 [==============================] - 38s 283ms/step - det_loss: 0.4062 - cls_loss: 0.2384 - box_loss: 0.0034 - reg_l2_loss: 0.0999 - loss: 0.5060 - learning_rate: 0.0105 - gradient_norm: 1.7383 - val_det_loss: 0.3565 - val_cls_loss: 0.1378 - val_box_loss: 0.0044 - val_reg_l2_loss: 0.0998 - val_loss: 0.4563\n",
      "Epoch 92/150\n",
      "135/135 [==============================] - 39s 285ms/step - det_loss: 0.3684 - cls_loss: 0.2192 - box_loss: 0.0030 - reg_l2_loss: 0.0998 - loss: 0.4682 - learning_rate: 0.0101 - gradient_norm: 1.6242 - val_det_loss: 0.3441 - val_cls_loss: 0.1615 - val_box_loss: 0.0037 - val_reg_l2_loss: 0.0998 - val_loss: 0.4439\n",
      "Epoch 93/150\n",
      "135/135 [==============================] - 38s 285ms/step - det_loss: 0.3840 - cls_loss: 0.2232 - box_loss: 0.0032 - reg_l2_loss: 0.0998 - loss: 0.4838 - learning_rate: 0.0098 - gradient_norm: 1.7633 - val_det_loss: 0.4265 - val_cls_loss: 0.1843 - val_box_loss: 0.0048 - val_reg_l2_loss: 0.0998 - val_loss: 0.5263\n",
      "Epoch 94/150\n",
      "135/135 [==============================] - 41s 302ms/step - det_loss: 0.3603 - cls_loss: 0.2141 - box_loss: 0.0029 - reg_l2_loss: 0.0997 - loss: 0.4600 - learning_rate: 0.0095 - gradient_norm: 1.5470 - val_det_loss: 0.3468 - val_cls_loss: 0.1638 - val_box_loss: 0.0037 - val_reg_l2_loss: 0.0997 - val_loss: 0.4465\n",
      "Epoch 95/150\n",
      "135/135 [==============================] - 43s 321ms/step - det_loss: 0.3884 - cls_loss: 0.2335 - box_loss: 0.0031 - reg_l2_loss: 0.0997 - loss: 0.4880 - learning_rate: 0.0092 - gradient_norm: 1.7275 - val_det_loss: 0.3236 - val_cls_loss: 0.1432 - val_box_loss: 0.0036 - val_reg_l2_loss: 0.0997 - val_loss: 0.4233\n",
      "Epoch 96/150\n",
      "135/135 [==============================] - 40s 294ms/step - det_loss: 0.3500 - cls_loss: 0.2115 - box_loss: 0.0028 - reg_l2_loss: 0.0997 - loss: 0.4496 - learning_rate: 0.0089 - gradient_norm: 1.5697 - val_det_loss: 0.3869 - val_cls_loss: 0.1505 - val_box_loss: 0.0047 - val_reg_l2_loss: 0.0996 - val_loss: 0.4865\n",
      "Epoch 97/150\n",
      "135/135 [==============================] - 39s 288ms/step - det_loss: 0.3613 - cls_loss: 0.2161 - box_loss: 0.0029 - reg_l2_loss: 0.0996 - loss: 0.4609 - learning_rate: 0.0086 - gradient_norm: 1.6448 - val_det_loss: 0.3763 - val_cls_loss: 0.1633 - val_box_loss: 0.0043 - val_reg_l2_loss: 0.0996 - val_loss: 0.4759\n",
      "Epoch 98/150\n",
      "135/135 [==============================] - 42s 313ms/step - det_loss: 0.3619 - cls_loss: 0.2235 - box_loss: 0.0028 - reg_l2_loss: 0.0996 - loss: 0.4614 - learning_rate: 0.0083 - gradient_norm: 1.7719 - val_det_loss: 0.3783 - val_cls_loss: 0.1507 - val_box_loss: 0.0046 - val_reg_l2_loss: 0.0996 - val_loss: 0.4779\n",
      "Epoch 99/150\n",
      "135/135 [==============================] - 40s 298ms/step - det_loss: 0.3598 - cls_loss: 0.2230 - box_loss: 0.0027 - reg_l2_loss: 0.0995 - loss: 0.4594 - learning_rate: 0.0081 - gradient_norm: 1.6828 - val_det_loss: 0.2973 - val_cls_loss: 0.1524 - val_box_loss: 0.0029 - val_reg_l2_loss: 0.0995 - val_loss: 0.3968\n",
      "Epoch 100/150\n",
      "135/135 [==============================] - 42s 312ms/step - det_loss: 0.3615 - cls_loss: 0.2145 - box_loss: 0.0029 - reg_l2_loss: 0.0995 - loss: 0.4610 - learning_rate: 0.0078 - gradient_norm: 1.7477 - val_det_loss: 0.4168 - val_cls_loss: 0.2127 - val_box_loss: 0.0041 - val_reg_l2_loss: 0.0995 - val_loss: 0.5163\n",
      "Epoch 101/150\n",
      "135/135 [==============================] - 39s 288ms/step - det_loss: 0.3587 - cls_loss: 0.2157 - box_loss: 0.0029 - reg_l2_loss: 0.0995 - loss: 0.4581 - learning_rate: 0.0075 - gradient_norm: 1.7802 - val_det_loss: 0.3111 - val_cls_loss: 0.1575 - val_box_loss: 0.0031 - val_reg_l2_loss: 0.0995 - val_loss: 0.4105\n",
      "Epoch 102/150\n",
      "135/135 [==============================] - 39s 289ms/step - det_loss: 0.3322 - cls_loss: 0.2048 - box_loss: 0.0025 - reg_l2_loss: 0.0994 - loss: 0.4317 - learning_rate: 0.0072 - gradient_norm: 1.6636 - val_det_loss: 0.3942 - val_cls_loss: 0.1593 - val_box_loss: 0.0047 - val_reg_l2_loss: 0.0994 - val_loss: 0.4936\n",
      "Epoch 103/150\n",
      "135/135 [==============================] - 40s 296ms/step - det_loss: 0.3397 - cls_loss: 0.2060 - box_loss: 0.0027 - reg_l2_loss: 0.0994 - loss: 0.4391 - learning_rate: 0.0069 - gradient_norm: 1.5860 - val_det_loss: 0.4064 - val_cls_loss: 0.1805 - val_box_loss: 0.0045 - val_reg_l2_loss: 0.0994 - val_loss: 0.5058\n",
      "Epoch 104/150\n",
      "135/135 [==============================] - 41s 303ms/step - det_loss: 0.3402 - cls_loss: 0.2098 - box_loss: 0.0026 - reg_l2_loss: 0.0994 - loss: 0.4395 - learning_rate: 0.0067 - gradient_norm: 1.6238 - val_det_loss: 0.4192 - val_cls_loss: 0.1845 - val_box_loss: 0.0047 - val_reg_l2_loss: 0.0993 - val_loss: 0.5185\n",
      "Epoch 105/150\n",
      "135/135 [==============================] - 42s 308ms/step - det_loss: 0.3725 - cls_loss: 0.2271 - box_loss: 0.0029 - reg_l2_loss: 0.0993 - loss: 0.4718 - learning_rate: 0.0064 - gradient_norm: 1.7450 - val_det_loss: 0.3092 - val_cls_loss: 0.1387 - val_box_loss: 0.0034 - val_reg_l2_loss: 0.0993 - val_loss: 0.4085\n",
      "Epoch 106/150\n",
      "135/135 [==============================] - 39s 292ms/step - det_loss: 0.3666 - cls_loss: 0.2234 - box_loss: 0.0029 - reg_l2_loss: 0.0993 - loss: 0.4659 - learning_rate: 0.0061 - gradient_norm: 1.7409 - val_det_loss: 0.3240 - val_cls_loss: 0.1492 - val_box_loss: 0.0035 - val_reg_l2_loss: 0.0993 - val_loss: 0.4232\n",
      "Epoch 107/150\n",
      "135/135 [==============================] - 42s 312ms/step - det_loss: 0.3499 - cls_loss: 0.2082 - box_loss: 0.0028 - reg_l2_loss: 0.0992 - loss: 0.4491 - learning_rate: 0.0059 - gradient_norm: 1.7329 - val_det_loss: 0.3358 - val_cls_loss: 0.1753 - val_box_loss: 0.0032 - val_reg_l2_loss: 0.0992 - val_loss: 0.4350\n",
      "Epoch 108/150\n",
      "135/135 [==============================] - 41s 304ms/step - det_loss: 0.3430 - cls_loss: 0.2098 - box_loss: 0.0027 - reg_l2_loss: 0.0992 - loss: 0.4422 - learning_rate: 0.0056 - gradient_norm: 1.6095 - val_det_loss: 0.3206 - val_cls_loss: 0.1416 - val_box_loss: 0.0036 - val_reg_l2_loss: 0.0992 - val_loss: 0.4198\n",
      "Epoch 109/150\n",
      "135/135 [==============================] - 40s 298ms/step - det_loss: 0.3073 - cls_loss: 0.1849 - box_loss: 0.0024 - reg_l2_loss: 0.0992 - loss: 0.4064 - learning_rate: 0.0054 - gradient_norm: 1.6005 - val_det_loss: 0.3350 - val_cls_loss: 0.1559 - val_box_loss: 0.0036 - val_reg_l2_loss: 0.0992 - val_loss: 0.4342\n",
      "Epoch 110/150\n",
      "135/135 [==============================] - 41s 304ms/step - det_loss: 0.3554 - cls_loss: 0.2206 - box_loss: 0.0027 - reg_l2_loss: 0.0991 - loss: 0.4545 - learning_rate: 0.0051 - gradient_norm: 1.6924 - val_det_loss: 0.3057 - val_cls_loss: 0.1340 - val_box_loss: 0.0034 - val_reg_l2_loss: 0.0991 - val_loss: 0.4049\n",
      "Epoch 111/150\n",
      "135/135 [==============================] - 41s 304ms/step - det_loss: 0.3399 - cls_loss: 0.2064 - box_loss: 0.0027 - reg_l2_loss: 0.0991 - loss: 0.4390 - learning_rate: 0.0049 - gradient_norm: 1.7627 - val_det_loss: 0.3695 - val_cls_loss: 0.1478 - val_box_loss: 0.0044 - val_reg_l2_loss: 0.0991 - val_loss: 0.4685\n",
      "Epoch 112/150\n",
      "135/135 [==============================] - 39s 292ms/step - det_loss: 0.3378 - cls_loss: 0.2065 - box_loss: 0.0026 - reg_l2_loss: 0.0991 - loss: 0.4369 - learning_rate: 0.0046 - gradient_norm: 1.6623 - val_det_loss: 0.3851 - val_cls_loss: 0.1406 - val_box_loss: 0.0049 - val_reg_l2_loss: 0.0990 - val_loss: 0.4841\n",
      "Epoch 113/150\n",
      "135/135 [==============================] - 39s 287ms/step - det_loss: 0.3124 - cls_loss: 0.1914 - box_loss: 0.0024 - reg_l2_loss: 0.0990 - loss: 0.4114 - learning_rate: 0.0044 - gradient_norm: 1.6915 - val_det_loss: 0.2621 - val_cls_loss: 0.1163 - val_box_loss: 0.0029 - val_reg_l2_loss: 0.0990 - val_loss: 0.3611\n",
      "Epoch 114/150\n",
      "135/135 [==============================] - 39s 286ms/step - det_loss: 0.3639 - cls_loss: 0.2289 - box_loss: 0.0027 - reg_l2_loss: 0.0990 - loss: 0.4629 - learning_rate: 0.0042 - gradient_norm: 1.7305 - val_det_loss: 0.3254 - val_cls_loss: 0.1355 - val_box_loss: 0.0038 - val_reg_l2_loss: 0.0990 - val_loss: 0.4244\n",
      "Epoch 115/150\n",
      "135/135 [==============================] - 40s 299ms/step - det_loss: 0.3358 - cls_loss: 0.2099 - box_loss: 0.0025 - reg_l2_loss: 0.0990 - loss: 0.4348 - learning_rate: 0.0040 - gradient_norm: 1.8152 - val_det_loss: 0.2949 - val_cls_loss: 0.1289 - val_box_loss: 0.0033 - val_reg_l2_loss: 0.0990 - val_loss: 0.3939\n",
      "Epoch 116/150\n",
      "135/135 [==============================] - 39s 286ms/step - det_loss: 0.3075 - cls_loss: 0.1913 - box_loss: 0.0023 - reg_l2_loss: 0.0989 - loss: 0.4064 - learning_rate: 0.0037 - gradient_norm: 1.6153 - val_det_loss: 0.2845 - val_cls_loss: 0.1327 - val_box_loss: 0.0030 - val_reg_l2_loss: 0.0989 - val_loss: 0.3835\n",
      "Epoch 117/150\n",
      "135/135 [==============================] - 39s 290ms/step - det_loss: 0.3104 - cls_loss: 0.1900 - box_loss: 0.0024 - reg_l2_loss: 0.0989 - loss: 0.4093 - learning_rate: 0.0035 - gradient_norm: 1.6861 - val_det_loss: 0.2812 - val_cls_loss: 0.1316 - val_box_loss: 0.0030 - val_reg_l2_loss: 0.0989 - val_loss: 0.3801\n",
      "Epoch 118/150\n",
      "135/135 [==============================] - 39s 287ms/step - det_loss: 0.3111 - cls_loss: 0.1980 - box_loss: 0.0023 - reg_l2_loss: 0.0989 - loss: 0.4100 - learning_rate: 0.0033 - gradient_norm: 1.6809 - val_det_loss: 0.3083 - val_cls_loss: 0.1434 - val_box_loss: 0.0033 - val_reg_l2_loss: 0.0989 - val_loss: 0.4072\n",
      "Epoch 119/150\n",
      "135/135 [==============================] - 40s 296ms/step - det_loss: 0.3179 - cls_loss: 0.1949 - box_loss: 0.0025 - reg_l2_loss: 0.0989 - loss: 0.4168 - learning_rate: 0.0031 - gradient_norm: 1.7079 - val_det_loss: 0.3363 - val_cls_loss: 0.1464 - val_box_loss: 0.0038 - val_reg_l2_loss: 0.0989 - val_loss: 0.4351\n",
      "Epoch 120/150\n",
      "135/135 [==============================] - 40s 295ms/step - det_loss: 0.3218 - cls_loss: 0.1985 - box_loss: 0.0025 - reg_l2_loss: 0.0988 - loss: 0.4207 - learning_rate: 0.0029 - gradient_norm: 1.7173 - val_det_loss: 0.3059 - val_cls_loss: 0.1408 - val_box_loss: 0.0033 - val_reg_l2_loss: 0.0988 - val_loss: 0.4047\n",
      "Epoch 121/150\n",
      "135/135 [==============================] - 39s 287ms/step - det_loss: 0.3084 - cls_loss: 0.1903 - box_loss: 0.0024 - reg_l2_loss: 0.0988 - loss: 0.4072 - learning_rate: 0.0027 - gradient_norm: 1.6989 - val_det_loss: 0.3237 - val_cls_loss: 0.1358 - val_box_loss: 0.0038 - val_reg_l2_loss: 0.0988 - val_loss: 0.4225\n",
      "Epoch 122/150\n",
      "135/135 [==============================] - 39s 289ms/step - det_loss: 0.2995 - cls_loss: 0.1841 - box_loss: 0.0023 - reg_l2_loss: 0.0988 - loss: 0.3983 - learning_rate: 0.0026 - gradient_norm: 1.6058 - val_det_loss: 0.2994 - val_cls_loss: 0.1445 - val_box_loss: 0.0031 - val_reg_l2_loss: 0.0988 - val_loss: 0.3982\n",
      "Epoch 123/150\n",
      "135/135 [==============================] - 38s 284ms/step - det_loss: 0.3256 - cls_loss: 0.2060 - box_loss: 0.0024 - reg_l2_loss: 0.0988 - loss: 0.4243 - learning_rate: 0.0024 - gradient_norm: 1.6961 - val_det_loss: 0.3100 - val_cls_loss: 0.1551 - val_box_loss: 0.0031 - val_reg_l2_loss: 0.0988 - val_loss: 0.4087\n",
      "Epoch 124/150\n",
      "135/135 [==============================] - 39s 288ms/step - det_loss: 0.3144 - cls_loss: 0.1974 - box_loss: 0.0023 - reg_l2_loss: 0.0988 - loss: 0.4132 - learning_rate: 0.0022 - gradient_norm: 1.6318 - val_det_loss: 0.2901 - val_cls_loss: 0.1206 - val_box_loss: 0.0034 - val_reg_l2_loss: 0.0987 - val_loss: 0.3889\n",
      "Epoch 125/150\n",
      "135/135 [==============================] - 40s 294ms/step - det_loss: 0.3114 - cls_loss: 0.1921 - box_loss: 0.0024 - reg_l2_loss: 0.0987 - loss: 0.4102 - learning_rate: 0.0020 - gradient_norm: 1.7089 - val_det_loss: 0.2856 - val_cls_loss: 0.1308 - val_box_loss: 0.0031 - val_reg_l2_loss: 0.0987 - val_loss: 0.3843\n",
      "Epoch 126/150\n",
      "135/135 [==============================] - 38s 284ms/step - det_loss: 0.3036 - cls_loss: 0.1893 - box_loss: 0.0023 - reg_l2_loss: 0.0987 - loss: 0.4023 - learning_rate: 0.0019 - gradient_norm: 1.6389 - val_det_loss: 0.3033 - val_cls_loss: 0.1420 - val_box_loss: 0.0032 - val_reg_l2_loss: 0.0987 - val_loss: 0.4020\n",
      "Epoch 127/150\n",
      "135/135 [==============================] - 39s 290ms/step - det_loss: 0.2924 - cls_loss: 0.1843 - box_loss: 0.0022 - reg_l2_loss: 0.0987 - loss: 0.3911 - learning_rate: 0.0017 - gradient_norm: 1.6014 - val_det_loss: 0.3269 - val_cls_loss: 0.1532 - val_box_loss: 0.0035 - val_reg_l2_loss: 0.0987 - val_loss: 0.4256\n",
      "Epoch 128/150\n",
      "135/135 [==============================] - 40s 300ms/step - det_loss: 0.2966 - cls_loss: 0.1867 - box_loss: 0.0022 - reg_l2_loss: 0.0987 - loss: 0.3952 - learning_rate: 0.0016 - gradient_norm: 1.6584 - val_det_loss: 0.2849 - val_cls_loss: 0.1266 - val_box_loss: 0.0032 - val_reg_l2_loss: 0.0987 - val_loss: 0.3836\n",
      "Epoch 129/150\n",
      "135/135 [==============================] - 40s 300ms/step - det_loss: 0.3112 - cls_loss: 0.1898 - box_loss: 0.0024 - reg_l2_loss: 0.0987 - loss: 0.4098 - learning_rate: 0.0014 - gradient_norm: 1.6964 - val_det_loss: 0.3088 - val_cls_loss: 0.1509 - val_box_loss: 0.0032 - val_reg_l2_loss: 0.0987 - val_loss: 0.4074\n",
      "Epoch 130/150\n",
      "135/135 [==============================] - 42s 311ms/step - det_loss: 0.3158 - cls_loss: 0.1989 - box_loss: 0.0023 - reg_l2_loss: 0.0987 - loss: 0.4145 - learning_rate: 0.0013 - gradient_norm: 1.7422 - val_det_loss: 0.3155 - val_cls_loss: 0.1465 - val_box_loss: 0.0034 - val_reg_l2_loss: 0.0987 - val_loss: 0.4142\n",
      "Epoch 131/150\n",
      "135/135 [==============================] - 40s 297ms/step - det_loss: 0.3067 - cls_loss: 0.1948 - box_loss: 0.0022 - reg_l2_loss: 0.0987 - loss: 0.4054 - learning_rate: 0.0012 - gradient_norm: 1.6691 - val_det_loss: 0.2965 - val_cls_loss: 0.1337 - val_box_loss: 0.0033 - val_reg_l2_loss: 0.0986 - val_loss: 0.3951\n",
      "Epoch 132/150\n",
      "135/135 [==============================] - 40s 299ms/step - det_loss: 0.3125 - cls_loss: 0.1939 - box_loss: 0.0024 - reg_l2_loss: 0.0986 - loss: 0.4111 - learning_rate: 0.0011 - gradient_norm: 1.7276 - val_det_loss: 0.3312 - val_cls_loss: 0.1570 - val_box_loss: 0.0035 - val_reg_l2_loss: 0.0986 - val_loss: 0.4298\n",
      "Epoch 133/150\n",
      "135/135 [==============================] - 39s 289ms/step - det_loss: 0.3091 - cls_loss: 0.1882 - box_loss: 0.0024 - reg_l2_loss: 0.0986 - loss: 0.4077 - learning_rate: 9.3633e-04 - gradient_norm: 1.6496 - val_det_loss: 0.3271 - val_cls_loss: 0.1557 - val_box_loss: 0.0034 - val_reg_l2_loss: 0.0986 - val_loss: 0.4257\n",
      "Epoch 134/150\n",
      "135/135 [==============================] - 40s 298ms/step - det_loss: 0.2958 - cls_loss: 0.1818 - box_loss: 0.0023 - reg_l2_loss: 0.0986 - loss: 0.3945 - learning_rate: 8.2730e-04 - gradient_norm: 1.6639 - val_det_loss: 0.3252 - val_cls_loss: 0.1447 - val_box_loss: 0.0036 - val_reg_l2_loss: 0.0986 - val_loss: 0.4238\n",
      "Epoch 135/150\n",
      "135/135 [==============================] - 41s 301ms/step - det_loss: 0.2959 - cls_loss: 0.1826 - box_loss: 0.0023 - reg_l2_loss: 0.0986 - loss: 0.3945 - learning_rate: 7.2483e-04 - gradient_norm: 1.6303 - val_det_loss: 0.3102 - val_cls_loss: 0.1417 - val_box_loss: 0.0034 - val_reg_l2_loss: 0.0986 - val_loss: 0.4089\n",
      "Epoch 136/150\n",
      "135/135 [==============================] - 40s 296ms/step - det_loss: 0.2967 - cls_loss: 0.1863 - box_loss: 0.0022 - reg_l2_loss: 0.0986 - loss: 0.3953 - learning_rate: 6.2900e-04 - gradient_norm: 1.6538 - val_det_loss: 0.3087 - val_cls_loss: 0.1339 - val_box_loss: 0.0035 - val_reg_l2_loss: 0.0986 - val_loss: 0.4073\n",
      "Epoch 137/150\n",
      "135/135 [==============================] - 39s 290ms/step - det_loss: 0.2882 - cls_loss: 0.1781 - box_loss: 0.0022 - reg_l2_loss: 0.0986 - loss: 0.3868 - learning_rate: 5.3983e-04 - gradient_norm: 1.5941 - val_det_loss: 0.2979 - val_cls_loss: 0.1349 - val_box_loss: 0.0033 - val_reg_l2_loss: 0.0986 - val_loss: 0.3965\n",
      "Epoch 138/150\n",
      "135/135 [==============================] - 39s 289ms/step - det_loss: 0.2898 - cls_loss: 0.1778 - box_loss: 0.0022 - reg_l2_loss: 0.0986 - loss: 0.3884 - learning_rate: 4.5736e-04 - gradient_norm: 1.6167 - val_det_loss: 0.3091 - val_cls_loss: 0.1305 - val_box_loss: 0.0036 - val_reg_l2_loss: 0.0986 - val_loss: 0.4077\n",
      "Epoch 139/150\n",
      "135/135 [==============================] - 39s 287ms/step - det_loss: 0.2954 - cls_loss: 0.1824 - box_loss: 0.0023 - reg_l2_loss: 0.0986 - loss: 0.3940 - learning_rate: 3.8164e-04 - gradient_norm: 1.6274 - val_det_loss: 0.2929 - val_cls_loss: 0.1295 - val_box_loss: 0.0033 - val_reg_l2_loss: 0.0986 - val_loss: 0.3915\n",
      "Epoch 140/150\n",
      "135/135 [==============================] - 42s 309ms/step - det_loss: 0.2875 - cls_loss: 0.1817 - box_loss: 0.0021 - reg_l2_loss: 0.0986 - loss: 0.3861 - learning_rate: 3.1269e-04 - gradient_norm: 1.6362 - val_det_loss: 0.2990 - val_cls_loss: 0.1330 - val_box_loss: 0.0033 - val_reg_l2_loss: 0.0986 - val_loss: 0.3976\n",
      "Epoch 141/150\n",
      "135/135 [==============================] - 39s 290ms/step - det_loss: 0.3010 - cls_loss: 0.1874 - box_loss: 0.0023 - reg_l2_loss: 0.0986 - loss: 0.3995 - learning_rate: 2.5055e-04 - gradient_norm: 1.7069 - val_det_loss: 0.3036 - val_cls_loss: 0.1322 - val_box_loss: 0.0034 - val_reg_l2_loss: 0.0986 - val_loss: 0.4022\n",
      "Epoch 142/150\n",
      "135/135 [==============================] - 40s 295ms/step - det_loss: 0.3008 - cls_loss: 0.1896 - box_loss: 0.0022 - reg_l2_loss: 0.0986 - loss: 0.3994 - learning_rate: 1.9525e-04 - gradient_norm: 1.6816 - val_det_loss: 0.3037 - val_cls_loss: 0.1338 - val_box_loss: 0.0034 - val_reg_l2_loss: 0.0986 - val_loss: 0.4023\n",
      "Epoch 143/150\n",
      "135/135 [==============================] - 40s 297ms/step - det_loss: 0.3120 - cls_loss: 0.1987 - box_loss: 0.0023 - reg_l2_loss: 0.0986 - loss: 0.4106 - learning_rate: 1.4680e-04 - gradient_norm: 1.6689 - val_det_loss: 0.2998 - val_cls_loss: 0.1328 - val_box_loss: 0.0033 - val_reg_l2_loss: 0.0986 - val_loss: 0.3984\n",
      "Epoch 144/150\n",
      "135/135 [==============================] - 41s 301ms/step - det_loss: 0.3082 - cls_loss: 0.1947 - box_loss: 0.0023 - reg_l2_loss: 0.0986 - loss: 0.4068 - learning_rate: 1.0524e-04 - gradient_norm: 1.6756 - val_det_loss: 0.3001 - val_cls_loss: 0.1308 - val_box_loss: 0.0034 - val_reg_l2_loss: 0.0986 - val_loss: 0.3987\n",
      "Epoch 145/150\n",
      "135/135 [==============================] - 41s 303ms/step - det_loss: 0.3025 - cls_loss: 0.1913 - box_loss: 0.0022 - reg_l2_loss: 0.0986 - loss: 0.4011 - learning_rate: 7.0571e-05 - gradient_norm: 1.6318 - val_det_loss: 0.2980 - val_cls_loss: 0.1304 - val_box_loss: 0.0034 - val_reg_l2_loss: 0.0986 - val_loss: 0.3965\n",
      "Epoch 146/150\n",
      "135/135 [==============================] - 40s 299ms/step - det_loss: 0.3005 - cls_loss: 0.1841 - box_loss: 0.0023 - reg_l2_loss: 0.0986 - loss: 0.3991 - learning_rate: 4.2820e-05 - gradient_norm: 1.8273 - val_det_loss: 0.2989 - val_cls_loss: 0.1297 - val_box_loss: 0.0034 - val_reg_l2_loss: 0.0986 - val_loss: 0.3974\n",
      "Epoch 147/150\n",
      "135/135 [==============================] - 39s 289ms/step - det_loss: 0.2928 - cls_loss: 0.1850 - box_loss: 0.0022 - reg_l2_loss: 0.0986 - loss: 0.3913 - learning_rate: 2.1996e-05 - gradient_norm: 1.6200 - val_det_loss: 0.3002 - val_cls_loss: 0.1312 - val_box_loss: 0.0034 - val_reg_l2_loss: 0.0986 - val_loss: 0.3987\n",
      "Epoch 148/150\n",
      "135/135 [==============================] - 39s 286ms/step - det_loss: 0.2931 - cls_loss: 0.1845 - box_loss: 0.0022 - reg_l2_loss: 0.0986 - loss: 0.3917 - learning_rate: 8.1077e-06 - gradient_norm: 1.6159 - val_det_loss: 0.2980 - val_cls_loss: 0.1302 - val_box_loss: 0.0034 - val_reg_l2_loss: 0.0986 - val_loss: 0.3966\n",
      "Epoch 149/150\n",
      "135/135 [==============================] - 40s 300ms/step - det_loss: 0.2819 - cls_loss: 0.1785 - box_loss: 0.0021 - reg_l2_loss: 0.0986 - loss: 0.3805 - learning_rate: 1.1619e-06 - gradient_norm: 1.5718 - val_det_loss: 0.2977 - val_cls_loss: 0.1302 - val_box_loss: 0.0034 - val_reg_l2_loss: 0.0986 - val_loss: 0.3963\n",
      "Epoch 150/150\n",
      "135/135 [==============================] - 41s 307ms/step - det_loss: 0.2831 - cls_loss: 0.1750 - box_loss: 0.0022 - reg_l2_loss: 0.0986 - loss: 0.3817 - learning_rate: 1.1616e-06 - gradient_norm: 1.5833 - val_det_loss: 0.2969 - val_cls_loss: 0.1289 - val_box_loss: 0.0034 - val_reg_l2_loss: 0.0986 - val_loss: 0.3955\n"
     ]
    }
   ],
   "source": [
    "model = object_detector.create(train_data=train_data, \n",
    "                               model_spec=spec, \n",
    "                               validation_data=validation_data, \n",
    "                               epochs=150, \n",
    "                               batch_size=10, \n",
    "                               train_whole_model=True)"
   ]
  },
  {
   "cell_type": "code",
   "execution_count": 7,
   "id": "a8ed1c9b-9ffb-43a8-8f82-1f41040b4964",
   "metadata": {},
   "outputs": [
    {
     "name": "stderr",
     "output_type": "stream",
     "text": [
      "2023-10-11 19:31:14.377488: W tensorflow/core/common_runtime/bfc_allocator.cc:275] Allocator (GPU_0_bfc) ran out of memory trying to allocate 2.75GiB with freed_by_count=0. The caller indicates that this is not a failure, but may mean that there could be performance gains if more memory were available.\n"
     ]
    },
    {
     "name": "stdout",
     "output_type": "stream",
     "text": [
      "1/1 [==============================] - 12s 12s/step\n",
      "\n"
     ]
    },
    {
     "data": {
      "text/plain": [
       "{'AP': 0.4642795,\n",
       " 'AP50': 0.9671321,\n",
       " 'AP75': 0.33415407,\n",
       " 'APs': 0.3524129,\n",
       " 'APm': 0.52810574,\n",
       " 'APl': 0.8,\n",
       " 'ARmax1': 0.537931,\n",
       " 'ARmax10': 0.59827584,\n",
       " 'ARmax100': 0.6103448,\n",
       " 'ARs': 0.4952381,\n",
       " 'ARm': 0.6722222,\n",
       " 'ARl': 0.8,\n",
       " 'AP_/drone': 0.4642795}"
      ]
     },
     "execution_count": 7,
     "metadata": {},
     "output_type": "execute_result"
    }
   ],
   "source": [
    "model.evaluate(test_data)"
   ]
  },
  {
   "cell_type": "markdown",
   "id": "7e6130f4-5cfb-48d8-828b-170d5a9175da",
   "metadata": {},
   "source": [
    "### Export Model"
   ]
  },
  {
   "cell_type": "code",
   "execution_count": 8,
   "id": "730348a2-f747-4179-913f-5cadda610e98",
   "metadata": {},
   "outputs": [],
   "source": [
    "TFLITE_FILENAME = 'efficientdet-lite-drone-150-alpha05.tflite'\n",
    "LABELS_FILENAME = 'drone-labels.txt'"
   ]
  },
  {
   "cell_type": "code",
   "execution_count": null,
   "id": "e11c071f-7ee6-43de-a8a3-6424acb580bd",
   "metadata": {},
   "outputs": [
    {
     "name": "stderr",
     "output_type": "stream",
     "text": [
      "2023-10-11 19:31:26.603276: W tensorflow/python/util/util.cc:368] Sets are not currently considered sequences, but this may change in the future, so consider avoiding using them.\n",
      "2023-10-11 19:31:58.966698: W tensorflow/core/common_runtime/graph_constructor.cc:803] Node 'resample_p7/PartitionedCall' has 1 outputs but the _output_shapes attribute specifies shapes for 3 outputs. Output shapes may be inaccurate.\n",
      "2023-10-11 19:32:05.253792: W tensorflow/compiler/mlir/lite/python/tf_tfl_flatbuffer_helpers.cc:357] Ignored output_format.\n",
      "2023-10-11 19:32:05.253851: W tensorflow/compiler/mlir/lite/python/tf_tfl_flatbuffer_helpers.cc:360] Ignored drop_control_dependency.\n",
      "2023-10-11 19:32:05.267591: I tensorflow/cc/saved_model/reader.cc:43] Reading SavedModel from: /tmp/tmp_ft5c4v_\n",
      "2023-10-11 19:32:05.380449: I tensorflow/cc/saved_model/reader.cc:78] Reading meta graph with tags { serve }\n",
      "2023-10-11 19:32:05.380487: I tensorflow/cc/saved_model/reader.cc:119] Reading SavedModel debug info (if present) from: /tmp/tmp_ft5c4v_\n",
      "2023-10-11 19:32:05.747576: I tensorflow/cc/saved_model/loader.cc:228] Restoring SavedModel bundle.\n",
      "2023-10-11 19:32:07.588356: I tensorflow/cc/saved_model/loader.cc:212] Running initialization op on SavedModel bundle at path: /tmp/tmp_ft5c4v_\n",
      "2023-10-11 19:32:08.376625: I tensorflow/cc/saved_model/loader.cc:301] SavedModel load for tags { serve }; Status: success: OK. Took 3109644 microseconds.\n",
      "2023-10-11 19:32:09.781173: I tensorflow/compiler/mlir/tensorflow/utils/dump_mlir_util.cc:237] disabling MLIR crash reproducer, set env var `MLIR_CRASH_REPRODUCER_DIRECTORY` to enable.\n",
      "2023-10-11 19:32:11.562495: I tensorflow/compiler/mlir/lite/flatbuffer_export.cc:1963] Estimated count of arithmetic ops: 1.752 G  ops, equivalently 0.876 G  MACs\n",
      "\n"
     ]
    }
   ],
   "source": [
    "model.export(export_dir='workspace/models', tflite_filename=TFLITE_FILENAME, label_filename=LABELS_FILENAME,\n",
    "             export_format=[ExportFormat.TFLITE, ExportFormat.LABEL])"
   ]
  },
  {
   "cell_type": "markdown",
   "id": "03a54f78-bbea-4c8b-9d10-fa6ba64975a0",
   "metadata": {},
   "source": [
    "### Test tflite model"
   ]
  },
  {
   "cell_type": "code",
   "execution_count": 10,
   "id": "2232b172-78cf-4369-9f47-8f9dbf1e9abd",
   "metadata": {},
   "outputs": [
    {
     "name": "stderr",
     "output_type": "stream",
     "text": [
      "INFO: Created TensorFlow Lite XNNPACK delegate for CPU.\n"
     ]
    },
    {
     "name": "stdout",
     "output_type": "stream",
     "text": [
      "58/58 [==============================] - 125s 2s/step\n",
      "\n"
     ]
    },
    {
     "data": {
      "text/plain": [
       "{'AP': 0.41383272,\n",
       " 'AP50': 0.8849029,\n",
       " 'AP75': 0.31108236,\n",
       " 'APs': 0.27866486,\n",
       " 'APm': 0.5016788,\n",
       " 'APl': 0.8,\n",
       " 'ARmax1': 0.49655172,\n",
       " 'ARmax10': 0.51724136,\n",
       " 'ARmax100': 0.5224138,\n",
       " 'ARs': 0.40952381,\n",
       " 'ARm': 0.58055556,\n",
       " 'ARl': 0.8,\n",
       " 'AP_/drone': 0.41383272}"
      ]
     },
     "execution_count": 10,
     "metadata": {},
     "output_type": "execute_result"
    }
   ],
   "source": [
    "import os\n",
    "model.evaluate_tflite(os.path.join('workspace','models',TFLITE_FILENAME), test_data)"
   ]
  },
  {
   "cell_type": "code",
   "execution_count": 32,
   "id": "9b20a373-3300-4c18-a989-ce3ad0a701d8",
   "metadata": {},
   "outputs": [
    {
     "name": "stdout",
     "output_type": "stream",
     "text": [
      "Edge TPU Compiler version 16.0.384591198\n",
      "Searching for valid delegate with step 1\n",
      "Try to compile segment with 267 ops\n",
      "Started a compilation timeout timer of 180 seconds.\n",
      "\n",
      "Model compiled successfully in 3209 ms.\n",
      "\n",
      "Input model: efficientdet-lite-drone-50-alpha05.tflite\n",
      "Input size: 4.24MiB\n",
      "Output model: efficientdet-lite-drone-50-alpha05_edgetpu.tflite\n",
      "Output size: 5.57MiB\n",
      "On-chip memory used for caching model parameters: 4.21MiB\n",
      "On-chip memory remaining for caching model parameters: 3.29MiB\n",
      "Off-chip memory used for streaming uncached model parameters: 0.00B\n",
      "Number of Edge TPU subgraphs: 1\n",
      "Total number of operations: 267\n",
      "Operation log: efficientdet-lite-drone-50-alpha05_edgetpu.log\n",
      "\n",
      "Model successfully compiled but not all operations are supported by the Edge TPU. A percentage of the model will instead run on the CPU, which is slower. If possible, consider updating your model to use only operations supported by the Edge TPU. For details, visit g.co/coral/model-reqs.\n",
      "Number of operations that will run on Edge TPU: 264\n",
      "Number of operations that will run on CPU: 3\n",
      "See the operation log file for individual operation details.\n",
      "Compilation child process completed within timeout period.\n",
      "Compilation succeeded! \n"
     ]
    }
   ],
   "source": [
    "! cd workspace/models && edgetpu_compiler $TFLITE_FILENAME -d --num_segments=1"
   ]
  },
  {
   "cell_type": "code",
   "execution_count": null,
   "id": "bb9e7664-ea44-4ff2-925a-82015bbf062e",
   "metadata": {
    "collapsed": true,
    "jupyter": {
     "outputs_hidden": true
    }
   },
   "outputs": [],
   "source": []
  }
 ],
 "metadata": {
  "kernelspec": {
   "display_name": "tfl",
   "language": "python",
   "name": "tfl"
  },
  "language_info": {
   "codemirror_mode": {
    "name": "ipython",
    "version": 3
   },
   "file_extension": ".py",
   "mimetype": "text/x-python",
   "name": "python",
   "nbconvert_exporter": "python",
   "pygments_lexer": "ipython3",
   "version": "3.8.0"
  }
 },
 "nbformat": 4,
 "nbformat_minor": 5
}
